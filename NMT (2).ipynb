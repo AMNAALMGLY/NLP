{
  "nbformat": 4,
  "nbformat_minor": 0,
  "metadata": {
    "colab": {
      "name": "NMT.ipynb",
      "provenance": [],
      "collapsed_sections": []
    },
    "kernelspec": {
      "name": "python3",
      "display_name": "Python 3"
    },
    "language_info": {
      "name": "python"
    },
    "accelerator": "GPU"
  },
  "cells": [
    {
      "cell_type": "code",
      "metadata": {
        "id": "mHGl4w30Cdyl"
      },
      "source": [
        "import torch\n",
        "import torch.nn as nn\n",
        "import torch.optim as optim\n",
        "\n",
        "from torchtext.legacy.datasets import Multi30k\n",
        "from torchtext.legacy.data import Field, BucketIterator\n",
        "\n",
        "import spacy\n",
        "import numpy as np\n",
        "\n",
        "import random\n",
        "import math\n",
        "import time"
      ],
      "execution_count": 1,
      "outputs": []
    },
    {
      "cell_type": "code",
      "metadata": {
        "id": "3hzmtqnP7k1R"
      },
      "source": [
        "def setSeed(seed):\n",
        "  torch.manual_seed(seed)\n",
        "  random.seed(seed)\n",
        "  np.random.seed(seed)\n",
        "  torch.cuda.manual_seed(seed)\n"
      ],
      "execution_count": 2,
      "outputs": []
    },
    {
      "cell_type": "code",
      "metadata": {
        "id": "dfEtbwzz8ZKI"
      },
      "source": [
        "setSeed(1234)"
      ],
      "execution_count": 3,
      "outputs": []
    },
    {
      "cell_type": "code",
      "metadata": {
        "colab": {
          "base_uri": "https://localhost:8080/",
          "height": 1000
        },
        "id": "LkltrJwP8eiC",
        "outputId": "feacbceb-0513-4239-cb76-3d8aea3fbb1c"
      },
      "source": [
        "!pip3 install https://github.com/explosion/spacy-models/releases/download/de_core_news_sm-3.0.0/de_core_news_sm-3.0.0.tar.gz"
      ],
      "execution_count": 5,
      "outputs": [
        {
          "output_type": "stream",
          "text": [
            "Collecting https://github.com/explosion/spacy-models/releases/download/de_core_news_sm-3.0.0/de_core_news_sm-3.0.0.tar.gz\n",
            "\u001b[?25l  Downloading https://github.com/explosion/spacy-models/releases/download/de_core_news_sm-3.0.0/de_core_news_sm-3.0.0.tar.gz (19.3MB)\n",
            "\u001b[K     |████████████████████████████████| 19.3MB 1.5MB/s \n",
            "\u001b[?25hCollecting spacy<3.1.0,>=3.0.0\n",
            "\u001b[?25l  Downloading https://files.pythonhosted.org/packages/1b/d8/0361bbaf7a1ff56b44dca04dace54c82d63dad7475b7d25ea1baefafafb2/spacy-3.0.6-cp37-cp37m-manylinux2014_x86_64.whl (12.8MB)\n",
            "\u001b[K     |████████████████████████████████| 12.8MB 233kB/s \n",
            "\u001b[?25hCollecting spacy-legacy<3.1.0,>=3.0.4\n",
            "  Downloading https://files.pythonhosted.org/packages/8d/67/d4002a18e26bf29b17ab563ddb55232b445ab6a02f97bf17d1345ff34d3f/spacy_legacy-3.0.5-py2.py3-none-any.whl\n",
            "Requirement already satisfied: tqdm<5.0.0,>=4.38.0 in /usr/local/lib/python3.7/dist-packages (from spacy<3.1.0,>=3.0.0->de-core-news-sm==3.0.0) (4.41.1)\n",
            "Requirement already satisfied: setuptools in /usr/local/lib/python3.7/dist-packages (from spacy<3.1.0,>=3.0.0->de-core-news-sm==3.0.0) (56.1.0)\n",
            "Requirement already satisfied: packaging>=20.0 in /usr/local/lib/python3.7/dist-packages (from spacy<3.1.0,>=3.0.0->de-core-news-sm==3.0.0) (20.9)\n",
            "Requirement already satisfied: murmurhash<1.1.0,>=0.28.0 in /usr/local/lib/python3.7/dist-packages (from spacy<3.1.0,>=3.0.0->de-core-news-sm==3.0.0) (1.0.5)\n",
            "Requirement already satisfied: typing-extensions<4.0.0.0,>=3.7.4; python_version < \"3.8\" in /usr/local/lib/python3.7/dist-packages (from spacy<3.1.0,>=3.0.0->de-core-news-sm==3.0.0) (3.7.4.3)\n",
            "Collecting pydantic<1.8.0,>=1.7.1\n",
            "\u001b[?25l  Downloading https://files.pythonhosted.org/packages/ca/fa/d43f31874e1f2a9633e4c025be310f2ce7a8350017579e9e837a62630a7e/pydantic-1.7.4-cp37-cp37m-manylinux2014_x86_64.whl (9.1MB)\n",
            "\u001b[K     |████████████████████████████████| 9.1MB 147kB/s \n",
            "\u001b[?25hRequirement already satisfied: numpy>=1.15.0 in /usr/local/lib/python3.7/dist-packages (from spacy<3.1.0,>=3.0.0->de-core-news-sm==3.0.0) (1.19.5)\n",
            "Requirement already satisfied: preshed<3.1.0,>=3.0.2 in /usr/local/lib/python3.7/dist-packages (from spacy<3.1.0,>=3.0.0->de-core-news-sm==3.0.0) (3.0.5)\n",
            "Collecting thinc<8.1.0,>=8.0.3\n",
            "\u001b[?25l  Downloading https://files.pythonhosted.org/packages/61/87/decceba68a0c6ca356ddcb6aea8b2500e71d9bc187f148aae19b747b7d3c/thinc-8.0.3-cp37-cp37m-manylinux2014_x86_64.whl (1.1MB)\n",
            "\u001b[K     |████████████████████████████████| 1.1MB 30.3MB/s \n",
            "\u001b[?25hRequirement already satisfied: blis<0.8.0,>=0.4.0 in /usr/local/lib/python3.7/dist-packages (from spacy<3.1.0,>=3.0.0->de-core-news-sm==3.0.0) (0.4.1)\n",
            "Requirement already satisfied: requests<3.0.0,>=2.13.0 in /usr/local/lib/python3.7/dist-packages (from spacy<3.1.0,>=3.0.0->de-core-news-sm==3.0.0) (2.23.0)\n",
            "Collecting typer<0.4.0,>=0.3.0\n",
            "  Downloading https://files.pythonhosted.org/packages/90/34/d138832f6945432c638f32137e6c79a3b682f06a63c488dcfaca6b166c64/typer-0.3.2-py3-none-any.whl\n",
            "Requirement already satisfied: jinja2 in /usr/local/lib/python3.7/dist-packages (from spacy<3.1.0,>=3.0.0->de-core-news-sm==3.0.0) (2.11.3)\n",
            "Requirement already satisfied: wasabi<1.1.0,>=0.8.1 in /usr/local/lib/python3.7/dist-packages (from spacy<3.1.0,>=3.0.0->de-core-news-sm==3.0.0) (0.8.2)\n",
            "Collecting catalogue<2.1.0,>=2.0.3\n",
            "  Downloading https://files.pythonhosted.org/packages/9c/10/dbc1203a4b1367c7b02fddf08cb2981d9aa3e688d398f587cea0ab9e3bec/catalogue-2.0.4-py3-none-any.whl\n",
            "Collecting pathy>=0.3.5\n",
            "\u001b[?25l  Downloading https://files.pythonhosted.org/packages/13/87/5991d87be8ed60beb172b4062dbafef18b32fa559635a8e2b633c2974f85/pathy-0.5.2-py3-none-any.whl (42kB)\n",
            "\u001b[K     |████████████████████████████████| 51kB 6.6MB/s \n",
            "\u001b[?25hCollecting srsly<3.0.0,>=2.4.1\n",
            "\u001b[?25l  Downloading https://files.pythonhosted.org/packages/c3/84/dfdfc9f6f04f6b88207d96d9520b911e5fec0c67ff47a0dea31ab5429a1e/srsly-2.4.1-cp37-cp37m-manylinux2014_x86_64.whl (456kB)\n",
            "\u001b[K     |████████████████████████████████| 460kB 31.4MB/s \n",
            "\u001b[?25hRequirement already satisfied: cymem<2.1.0,>=2.0.2 in /usr/local/lib/python3.7/dist-packages (from spacy<3.1.0,>=3.0.0->de-core-news-sm==3.0.0) (2.0.5)\n",
            "Requirement already satisfied: pyparsing>=2.0.2 in /usr/local/lib/python3.7/dist-packages (from packaging>=20.0->spacy<3.1.0,>=3.0.0->de-core-news-sm==3.0.0) (2.4.7)\n",
            "Requirement already satisfied: certifi>=2017.4.17 in /usr/local/lib/python3.7/dist-packages (from requests<3.0.0,>=2.13.0->spacy<3.1.0,>=3.0.0->de-core-news-sm==3.0.0) (2020.12.5)\n",
            "Requirement already satisfied: urllib3!=1.25.0,!=1.25.1,<1.26,>=1.21.1 in /usr/local/lib/python3.7/dist-packages (from requests<3.0.0,>=2.13.0->spacy<3.1.0,>=3.0.0->de-core-news-sm==3.0.0) (1.24.3)\n",
            "Requirement already satisfied: idna<3,>=2.5 in /usr/local/lib/python3.7/dist-packages (from requests<3.0.0,>=2.13.0->spacy<3.1.0,>=3.0.0->de-core-news-sm==3.0.0) (2.10)\n",
            "Requirement already satisfied: chardet<4,>=3.0.2 in /usr/local/lib/python3.7/dist-packages (from requests<3.0.0,>=2.13.0->spacy<3.1.0,>=3.0.0->de-core-news-sm==3.0.0) (3.0.4)\n",
            "Collecting click<7.2.0,>=7.1.1\n",
            "\u001b[?25l  Downloading https://files.pythonhosted.org/packages/d2/3d/fa76db83bf75c4f8d338c2fd15c8d33fdd7ad23a9b5e57eb6c5de26b430e/click-7.1.2-py2.py3-none-any.whl (82kB)\n",
            "\u001b[K     |████████████████████████████████| 92kB 9.8MB/s \n",
            "\u001b[?25hRequirement already satisfied: MarkupSafe>=0.23 in /usr/local/lib/python3.7/dist-packages (from jinja2->spacy<3.1.0,>=3.0.0->de-core-news-sm==3.0.0) (2.0.0)\n",
            "Requirement already satisfied: zipp>=0.5; python_version < \"3.8\" in /usr/local/lib/python3.7/dist-packages (from catalogue<2.1.0,>=2.0.3->spacy<3.1.0,>=3.0.0->de-core-news-sm==3.0.0) (3.4.1)\n",
            "Collecting smart-open<4.0.0,>=2.2.0\n",
            "\u001b[?25l  Downloading https://files.pythonhosted.org/packages/11/9a/ba2d5f67f25e8d5bbf2fcec7a99b1e38428e83cb715f64dd179ca43a11bb/smart_open-3.0.0.tar.gz (113kB)\n",
            "\u001b[K     |████████████████████████████████| 122kB 24.1MB/s \n",
            "\u001b[?25hBuilding wheels for collected packages: de-core-news-sm, smart-open\n",
            "  Building wheel for de-core-news-sm (setup.py) ... \u001b[?25l\u001b[?25hdone\n",
            "  Created wheel for de-core-news-sm: filename=de_core_news_sm-3.0.0-cp37-none-any.whl size=19265762 sha256=e938e45320412f75e10b4e28f27d5f97bc8ebc91b15b568270eb7c296f04e7dd\n",
            "  Stored in directory: /root/.cache/pip/wheels/cc/86/b2/adf9164914cc182477893072826925f9ccddb24a3302005979\n",
            "  Building wheel for smart-open (setup.py) ... \u001b[?25l\u001b[?25hdone\n",
            "  Created wheel for smart-open: filename=smart_open-3.0.0-cp37-none-any.whl size=107098 sha256=91c7accb08c9258cef64e21c622f9371fef3c947e4a4ead50eee123921b178d1\n",
            "  Stored in directory: /root/.cache/pip/wheels/18/88/7c/f06dabd5e9cabe02d2269167bcacbbf9b47d0c0ff7d6ebcb78\n",
            "Successfully built de-core-news-sm smart-open\n",
            "Installing collected packages: spacy-legacy, pydantic, catalogue, srsly, thinc, click, typer, smart-open, pathy, spacy, de-core-news-sm\n",
            "  Found existing installation: catalogue 1.0.0\n",
            "    Uninstalling catalogue-1.0.0:\n",
            "      Successfully uninstalled catalogue-1.0.0\n",
            "  Found existing installation: srsly 1.0.5\n",
            "    Uninstalling srsly-1.0.5:\n",
            "      Successfully uninstalled srsly-1.0.5\n",
            "  Found existing installation: thinc 7.4.0\n",
            "    Uninstalling thinc-7.4.0:\n",
            "      Successfully uninstalled thinc-7.4.0\n",
            "  Found existing installation: click 8.0.0\n",
            "    Uninstalling click-8.0.0:\n",
            "      Successfully uninstalled click-8.0.0\n",
            "  Found existing installation: smart-open 5.0.0\n",
            "    Uninstalling smart-open-5.0.0:\n",
            "      Successfully uninstalled smart-open-5.0.0\n",
            "  Found existing installation: spacy 2.2.4\n",
            "    Uninstalling spacy-2.2.4:\n",
            "      Successfully uninstalled spacy-2.2.4\n",
            "Successfully installed catalogue-2.0.4 click-7.1.2 de-core-news-sm-3.0.0 pathy-0.5.2 pydantic-1.7.4 smart-open-3.0.0 spacy-3.0.6 spacy-legacy-3.0.5 srsly-2.4.1 thinc-8.0.3 typer-0.3.2\n"
          ],
          "name": "stdout"
        },
        {
          "output_type": "display_data",
          "data": {
            "application/vnd.colab-display-data+json": {
              "pip_warning": {
                "packages": [
                  "catalogue",
                  "spacy",
                  "srsly",
                  "thinc"
                ]
              }
            }
          },
          "metadata": {
            "tags": []
          }
        }
      ]
    },
    {
      "cell_type": "code",
      "metadata": {
        "colab": {
          "base_uri": "https://localhost:8080/",
          "height": 816
        },
        "id": "2Ydx6vyU8n_g",
        "outputId": "233cb196-62df-4288-f74d-5290d1fa3e66"
      },
      "source": [
        "!pip3 install https://github.com/explosion/spacy-models/releases/download/en_core_web_sm-3.0.0/en_core_web_sm-3.0.0.tar.gz"
      ],
      "execution_count": 6,
      "outputs": [
        {
          "output_type": "stream",
          "text": [
            "Collecting https://github.com/explosion/spacy-models/releases/download/en_core_web_sm-3.0.0/en_core_web_sm-3.0.0.tar.gz\n",
            "\u001b[?25l  Downloading https://github.com/explosion/spacy-models/releases/download/en_core_web_sm-3.0.0/en_core_web_sm-3.0.0.tar.gz (13.7MB)\n",
            "\u001b[K     |████████████████████████████████| 13.7MB 221kB/s \n",
            "\u001b[?25hRequirement already satisfied: spacy<3.1.0,>=3.0.0 in /usr/local/lib/python3.7/dist-packages (from en-core-web-sm==3.0.0) (3.0.6)\n",
            "Requirement already satisfied: setuptools in /usr/local/lib/python3.7/dist-packages (from spacy<3.1.0,>=3.0.0->en-core-web-sm==3.0.0) (56.1.0)\n",
            "Requirement already satisfied: packaging>=20.0 in /usr/local/lib/python3.7/dist-packages (from spacy<3.1.0,>=3.0.0->en-core-web-sm==3.0.0) (20.9)\n",
            "Requirement already satisfied: typer<0.4.0,>=0.3.0 in /usr/local/lib/python3.7/dist-packages (from spacy<3.1.0,>=3.0.0->en-core-web-sm==3.0.0) (0.3.2)\n",
            "Requirement already satisfied: preshed<3.1.0,>=3.0.2 in /usr/local/lib/python3.7/dist-packages (from spacy<3.1.0,>=3.0.0->en-core-web-sm==3.0.0) (3.0.5)\n",
            "Requirement already satisfied: pathy>=0.3.5 in /usr/local/lib/python3.7/dist-packages (from spacy<3.1.0,>=3.0.0->en-core-web-sm==3.0.0) (0.5.2)\n",
            "Requirement already satisfied: pydantic<1.8.0,>=1.7.1 in /usr/local/lib/python3.7/dist-packages (from spacy<3.1.0,>=3.0.0->en-core-web-sm==3.0.0) (1.7.4)\n",
            "Requirement already satisfied: jinja2 in /usr/local/lib/python3.7/dist-packages (from spacy<3.1.0,>=3.0.0->en-core-web-sm==3.0.0) (2.11.3)\n",
            "Requirement already satisfied: murmurhash<1.1.0,>=0.28.0 in /usr/local/lib/python3.7/dist-packages (from spacy<3.1.0,>=3.0.0->en-core-web-sm==3.0.0) (1.0.5)\n",
            "Requirement already satisfied: catalogue<2.1.0,>=2.0.3 in /usr/local/lib/python3.7/dist-packages (from spacy<3.1.0,>=3.0.0->en-core-web-sm==3.0.0) (2.0.4)\n",
            "Requirement already satisfied: requests<3.0.0,>=2.13.0 in /usr/local/lib/python3.7/dist-packages (from spacy<3.1.0,>=3.0.0->en-core-web-sm==3.0.0) (2.23.0)\n",
            "Requirement already satisfied: srsly<3.0.0,>=2.4.1 in /usr/local/lib/python3.7/dist-packages (from spacy<3.1.0,>=3.0.0->en-core-web-sm==3.0.0) (2.4.1)\n",
            "Requirement already satisfied: thinc<8.1.0,>=8.0.3 in /usr/local/lib/python3.7/dist-packages (from spacy<3.1.0,>=3.0.0->en-core-web-sm==3.0.0) (8.0.3)\n",
            "Requirement already satisfied: blis<0.8.0,>=0.4.0 in /usr/local/lib/python3.7/dist-packages (from spacy<3.1.0,>=3.0.0->en-core-web-sm==3.0.0) (0.4.1)\n",
            "Requirement already satisfied: cymem<2.1.0,>=2.0.2 in /usr/local/lib/python3.7/dist-packages (from spacy<3.1.0,>=3.0.0->en-core-web-sm==3.0.0) (2.0.5)\n",
            "Requirement already satisfied: typing-extensions<4.0.0.0,>=3.7.4; python_version < \"3.8\" in /usr/local/lib/python3.7/dist-packages (from spacy<3.1.0,>=3.0.0->en-core-web-sm==3.0.0) (3.7.4.3)\n",
            "Requirement already satisfied: spacy-legacy<3.1.0,>=3.0.4 in /usr/local/lib/python3.7/dist-packages (from spacy<3.1.0,>=3.0.0->en-core-web-sm==3.0.0) (3.0.5)\n",
            "Requirement already satisfied: numpy>=1.15.0 in /usr/local/lib/python3.7/dist-packages (from spacy<3.1.0,>=3.0.0->en-core-web-sm==3.0.0) (1.19.5)\n",
            "Requirement already satisfied: wasabi<1.1.0,>=0.8.1 in /usr/local/lib/python3.7/dist-packages (from spacy<3.1.0,>=3.0.0->en-core-web-sm==3.0.0) (0.8.2)\n",
            "Requirement already satisfied: tqdm<5.0.0,>=4.38.0 in /usr/local/lib/python3.7/dist-packages (from spacy<3.1.0,>=3.0.0->en-core-web-sm==3.0.0) (4.41.1)\n",
            "Requirement already satisfied: pyparsing>=2.0.2 in /usr/local/lib/python3.7/dist-packages (from packaging>=20.0->spacy<3.1.0,>=3.0.0->en-core-web-sm==3.0.0) (2.4.7)\n",
            "Requirement already satisfied: click<7.2.0,>=7.1.1 in /usr/local/lib/python3.7/dist-packages (from typer<0.4.0,>=0.3.0->spacy<3.1.0,>=3.0.0->en-core-web-sm==3.0.0) (7.1.2)\n",
            "Requirement already satisfied: smart-open<4.0.0,>=2.2.0 in /usr/local/lib/python3.7/dist-packages (from pathy>=0.3.5->spacy<3.1.0,>=3.0.0->en-core-web-sm==3.0.0) (3.0.0)\n",
            "Requirement already satisfied: MarkupSafe>=0.23 in /usr/local/lib/python3.7/dist-packages (from jinja2->spacy<3.1.0,>=3.0.0->en-core-web-sm==3.0.0) (2.0.0)\n",
            "Requirement already satisfied: zipp>=0.5; python_version < \"3.8\" in /usr/local/lib/python3.7/dist-packages (from catalogue<2.1.0,>=2.0.3->spacy<3.1.0,>=3.0.0->en-core-web-sm==3.0.0) (3.4.1)\n",
            "Requirement already satisfied: urllib3!=1.25.0,!=1.25.1,<1.26,>=1.21.1 in /usr/local/lib/python3.7/dist-packages (from requests<3.0.0,>=2.13.0->spacy<3.1.0,>=3.0.0->en-core-web-sm==3.0.0) (1.24.3)\n",
            "Requirement already satisfied: chardet<4,>=3.0.2 in /usr/local/lib/python3.7/dist-packages (from requests<3.0.0,>=2.13.0->spacy<3.1.0,>=3.0.0->en-core-web-sm==3.0.0) (3.0.4)\n",
            "Requirement already satisfied: idna<3,>=2.5 in /usr/local/lib/python3.7/dist-packages (from requests<3.0.0,>=2.13.0->spacy<3.1.0,>=3.0.0->en-core-web-sm==3.0.0) (2.10)\n",
            "Requirement already satisfied: certifi>=2017.4.17 in /usr/local/lib/python3.7/dist-packages (from requests<3.0.0,>=2.13.0->spacy<3.1.0,>=3.0.0->en-core-web-sm==3.0.0) (2020.12.5)\n",
            "Building wheels for collected packages: en-core-web-sm\n",
            "  Building wheel for en-core-web-sm (setup.py) ... \u001b[?25l\u001b[?25hdone\n",
            "  Created wheel for en-core-web-sm: filename=en_core_web_sm-3.0.0-cp37-none-any.whl size=13704313 sha256=a6a89e534c0726b163cf2e896d0903e5238fa16e778fd3ef07d81fd5c74d72c5\n",
            "  Stored in directory: /root/.cache/pip/wheels/91/2b/a1/d83336e8dfaacbbcdfc805b2c7195dd3ea10d507396fe31cac\n",
            "Successfully built en-core-web-sm\n",
            "Installing collected packages: en-core-web-sm\n",
            "  Found existing installation: en-core-web-sm 2.2.5\n",
            "    Uninstalling en-core-web-sm-2.2.5:\n",
            "      Successfully uninstalled en-core-web-sm-2.2.5\n",
            "Successfully installed en-core-web-sm-3.0.0\n"
          ],
          "name": "stdout"
        },
        {
          "output_type": "display_data",
          "data": {
            "application/vnd.colab-display-data+json": {
              "pip_warning": {
                "packages": [
                  "en_core_web_sm"
                ]
              }
            }
          },
          "metadata": {
            "tags": []
          }
        }
      ]
    },
    {
      "cell_type": "code",
      "metadata": {
        "id": "2LFu8PgFBh2p"
      },
      "source": [
        "en=spacy.load('en_core_web_sm')\n",
        "de=spacy.load('de_core_news_sm')"
      ],
      "execution_count": 4,
      "outputs": []
    },
    {
      "cell_type": "code",
      "metadata": {
        "id": "7E4FtA2YCb1Y"
      },
      "source": [
        "def tokenize_en(text):\n",
        "  return [tok.text for tok in en.tokenizer(text)]\n",
        "\n",
        "def tokenize_de(text):\n",
        "  return [tok.text for tok in de.tokenizer(text)]  "
      ],
      "execution_count": 5,
      "outputs": []
    },
    {
      "cell_type": "code",
      "metadata": {
        "colab": {
          "base_uri": "https://localhost:8080/"
        },
        "id": "b7wEyKVoDIPq",
        "outputId": "6bd1ae40-338b-4c5e-c95c-fe1962d05f00"
      },
      "source": [
        "tokenize_en('hello my friend')"
      ],
      "execution_count": null,
      "outputs": [
        {
          "output_type": "execute_result",
          "data": {
            "text/plain": [
              "['hello', 'my', 'friend']"
            ]
          },
          "metadata": {
            "tags": []
          },
          "execution_count": 6
        }
      ]
    },
    {
      "cell_type": "code",
      "metadata": {
        "id": "gdvTxVzCDcG1"
      },
      "source": [
        "SRC=Field(init_token='sos',eos_token='eos',lower=True, tokenize=tokenize_en)\n",
        "TRG=Field(init_token='sos',eos_token='eos',lower=True, tokenize=tokenize_de)"
      ],
      "execution_count": 6,
      "outputs": []
    },
    {
      "cell_type": "code",
      "metadata": {
        "id": "fkY84w7DD-mr"
      },
      "source": [
        "train_data,valid_data,test_data=Multi30k.splits(exts=('.en','.de'),fields=(SRC,TRG))"
      ],
      "execution_count": 7,
      "outputs": []
    },
    {
      "cell_type": "code",
      "metadata": {
        "id": "suEIF2WGG-CY"
      },
      "source": [
        "SRC.build_vocab(train_data,min_freq=2)\n",
        "TRG.build_vocab(train_data,min_freq=2)"
      ],
      "execution_count": 18,
      "outputs": []
    },
    {
      "cell_type": "code",
      "metadata": {
        "id": "-AxxDkYiF3jc"
      },
      "source": [
        "device=torch.device('cuda') if torch.cuda.is_available()else torch.device('cpu')"
      ],
      "execution_count": 9,
      "outputs": []
    },
    {
      "cell_type": "code",
      "metadata": {
        "id": "mD_lIzexEjKT"
      },
      "source": [
        "train_loader,valid_loader,test_loader=BucketIterator.splits((train_data,valid_data,test_data),batch_size=128,device=device)"
      ],
      "execution_count": 10,
      "outputs": []
    },
    {
      "cell_type": "code",
      "metadata": {
        "colab": {
          "base_uri": "https://localhost:8080/"
        },
        "id": "HQILOMgQoirt",
        "outputId": "da1ff1b2-f766-4451-9560-b3eb82fe4988"
      },
      "source": [
        "len(train_loader)"
      ],
      "execution_count": 11,
      "outputs": [
        {
          "output_type": "execute_result",
          "data": {
            "text/plain": [
              "227"
            ]
          },
          "metadata": {
            "tags": []
          },
          "execution_count": 11
        }
      ]
    },
    {
      "cell_type": "code",
      "metadata": {
        "id": "AzyUIBrDoiqX"
      },
      "source": [
        ""
      ],
      "execution_count": null,
      "outputs": []
    },
    {
      "cell_type": "code",
      "metadata": {
        "id": "S-zU9JCAHDaf"
      },
      "source": [
        "class Encoder(nn.Module):\n",
        "  def __init__(self, embed_size, enc_hid_size,dec_hid_size,input_dim,dropout):\n",
        "    super().__init__()\n",
        "    self.embedding=nn.Embedding(input_dim,embed_size)\n",
        "    self.rnn=nn.GRU(embed_size,hidden_size=enc_hid_size,bidirectional=True,dropout=dropout)\n",
        "    self.dropout=nn.Dropout(dropout)\n",
        "    self.fc=nn.Linear(enc_hid_size*2,dec_hid_size)\n",
        "    self.enc_hid_size=enc_hid_size\n",
        "    self.dec_hid_size=dec_hid_size\n",
        "  def forward(self,input):\n",
        "    embed=self.dropout(self.embedding(input))\n",
        "    #output of shape (seq_len, batch, num_directions * hidden_size)\n",
        "    #hidden of shape (num_layers * num_directions, batch, hidden_size)(last hidden state)\n",
        "    output,hidden=self.rnn(embed)\n",
        "    hidden=self.fc(torch.cat((hidden[-2,:,:],hidden[-1,:,:]),dim=1))\n",
        "    return output,hidden"
      ],
      "execution_count": 11,
      "outputs": []
    },
    {
      "cell_type": "code",
      "metadata": {
        "id": "VVD0oOgAWbP6"
      },
      "source": [
        "class Attention(nn.Module):\n",
        "  def __init__(self,enc_hid_size,dec_hid_size):\n",
        "      super().__init__()\n",
        "      self.att=nn.Linear((enc_hid_size * 2) + dec_hid_size,dec_hid_size)\n",
        "      self.v=nn.Linear(dec_hid_size,1,bias=False)\n",
        "  def forward(self,encoder_outputs,hidden):\n",
        "    hidden=hidden.unsqueeze(1)\n",
        "    seq_len=encoder_outputs.shape[0]\n",
        "    hidden=hidden.repeat(1,seq_len,1)\n",
        "    energy=torch.tanh(self.att(torch.cat((encoder_outputs.permute(1,0,2),hidden),dim=2)))\n",
        "    weighted=self.v(energy)\n",
        "    ##shape of [batch  seq_len  1]\n",
        "    return nn.functional.softmax(weighted,dim=1)\n",
        "\n",
        "    "
      ],
      "execution_count": 12,
      "outputs": []
    },
    {
      "cell_type": "code",
      "metadata": {
        "id": "MQEH57DjVyV9"
      },
      "source": [
        "class Decoder(nn.Module):\n",
        "  def __init__(self,embed_size,enc_hid_size,dec_hid_size,output_dim,dropout,attn):\n",
        "    super().__init__()\n",
        "    self.output_dim=output_dim\n",
        "    self.attn=attn\n",
        "    self.embedding=nn.Embedding(output_dim,embed_size)\n",
        "    self.rnn=nn.GRU(embed_size+(2*enc_hid_size),hidden_size=dec_hid_size,dropout=dropout)\n",
        "    self.fc=nn.Linear(embed_size+(2*enc_hid_size)+dec_hid_size,output_dim)\n",
        "    self.dropout=nn.Dropout(dropout)\n",
        "  def forward(self,input,encoder_outputs,hidden):\n",
        "    #shape of (batch   seq_len      hidden_size*2)\n",
        "\n",
        "    input=input.unsqueeze(0)\n",
        "    embed=self.dropout(self.embedding(input))\n",
        "    #shape of [batch  1  seq_len]\n",
        "    att= (self.attn(encoder_outputs,hidden))\n",
        "    ##shape of [batch     2*enc_hid_size   1]\n",
        "    w=torch.bmm(encoder_outputs.permute(1,2,0),att)\n",
        "    #embed of shape[1 batch     embedsize]\n",
        "    #hidden of shape([1, batch,     hiddensize])\n",
        "    hidden =hidden.unsqueeze(0)\n",
        "    output, hidden=self.rnn(torch.cat((embed.squeeze(0),w.squeeze(2)),dim=1).unsqueeze(0),hidden)\n",
        "    #hidden=hidden.unsqueeze(0)\n",
        "    ##shape of [1 batch output_dim]\n",
        "    predictions=self.fc(torch.cat((hidden,embed,w.permute(2,0,1)),dim=-1))\n",
        "    return predictions.squeeze(0),hidden.squeeze(0)\n",
        "\n",
        "\n",
        "\n"
      ],
      "execution_count": 13,
      "outputs": []
    },
    {
      "cell_type": "code",
      "metadata": {
        "id": "SGBlauvwelpf"
      },
      "source": [
        "class seq2seq(nn.Module):\n",
        "  def __init__(self,encoder,decoder,device):\n",
        "     super().__init__()\n",
        "     self.encoder=encoder\n",
        "     self.decoder=decoder\n",
        "     self.device=device\n",
        "  def forward(self,src,trg,teacher_force=0.5):\n",
        "    encoder_outputs,hidden=self.encoder(src)  \n",
        "    seqlen=trg.shape[0]\n",
        "    batch=src.shape[1]\n",
        "    output_dim=self.decoder.output_dim\n",
        "    input=trg[0]\n",
        "    predict=torch.zeros((seqlen,batch,output_dim),device=self.device)\n",
        "    pred,hidden=self.decoder(input,encoder_outputs,hidden)\n",
        "    for i in range(1,seqlen):\n",
        "      predict[i,:,:]=pred\n",
        "      if random.random()<teacher_force:\n",
        "        input=trg[i]\n",
        "      else:\n",
        "        input=pred.argmax(-1)\n",
        "      pred,hidden=self.decoder(input,encoder_outputs,hidden)\n",
        "    return predict\n"
      ],
      "execution_count": 14,
      "outputs": []
    },
    {
      "cell_type": "code",
      "metadata": {
        "colab": {
          "base_uri": "https://localhost:8080/"
        },
        "id": "nnQYiLeTk8Eg",
        "outputId": "3a562c6a-db90-49ac-95ef-259d3144110c"
      },
      "source": [
        "input_dim,output_dim=len(SRC.vocab),len(TRG.vocab)\n",
        "embed_size=256\n",
        "enc_hid_size,dec_hid_size=512,512\n",
        "dropout=0.5\n",
        "encoder=Encoder(embed_size,enc_hid_size,dec_hid_size,input_dim,dropout)\n",
        "attn=Attention(enc_hid_size,dec_hid_size)\n",
        "\n",
        "decoder=Decoder(embed_size,enc_hid_size,dec_hid_size,output_dim,dropout,attn)\n",
        "\n",
        "model=seq2seq(encoder,decoder,device).to(device=device)\n",
        "\n",
        "optimizor=optim.Adam(model.parameters())\n",
        "pad=TRG.vocab.stoi[TRG.pad_token]\n",
        "criterion=nn.CrossEntropyLoss(ignore_index=pad)\n"
      ],
      "execution_count": 19,
      "outputs": [
        {
          "output_type": "stream",
          "text": [
            "/usr/local/lib/python3.7/dist-packages/torch/nn/modules/rnn.py:63: UserWarning: dropout option adds dropout after all but last recurrent layer, so non-zero dropout expects num_layers greater than 1, but got dropout=0.5 and num_layers=1\n",
            "  \"num_layers={}\".format(dropout, num_layers))\n"
          ],
          "name": "stderr"
        }
      ]
    },
    {
      "cell_type": "code",
      "metadata": {
        "colab": {
          "base_uri": "https://localhost:8080/"
        },
        "id": "T3-1xLcjnmci",
        "outputId": "e913e49c-57d9-42d7-c334-09661565547f"
      },
      "source": [
        "model"
      ],
      "execution_count": 30,
      "outputs": [
        {
          "output_type": "execute_result",
          "data": {
            "text/plain": [
              "seq2seq(\n",
              "  (encoder): Encoder(\n",
              "    (embedding): Embedding(5893, 256)\n",
              "    (rnn): GRU(256, 512, dropout=0.5, bidirectional=True)\n",
              "    (dropout): Dropout(p=0.5, inplace=False)\n",
              "    (fc): Linear(in_features=1024, out_features=512, bias=True)\n",
              "  )\n",
              "  (decoder): Decoder(\n",
              "    (attn): Attention(\n",
              "      (att): Linear(in_features=1024, out_features=512, bias=True)\n",
              "      (v): Linear(in_features=512, out_features=1, bias=False)\n",
              "    )\n",
              "    (embedding): Embedding(7853, 256)\n",
              "    (rnn): GRU(1280, 512, dropout=0.5)\n",
              "    (fc): Linear(in_features=1792, out_features=7853, bias=True)\n",
              "  )\n",
              ")"
            ]
          },
          "metadata": {
            "tags": []
          },
          "execution_count": 30
        }
      ]
    },
    {
      "cell_type": "code",
      "metadata": {
        "colab": {
          "base_uri": "https://localhost:8080/"
        },
        "id": "q46sNTrhmu7r",
        "outputId": "e720e77f-1609-449e-d5d8-37a2405b6d18"
      },
      "source": [
        "def init_weight(model):\n",
        "  for name,param in model.named_parameters():\n",
        "    nn.init.uniform(param.data,-0.08,0.08)\n",
        "\n",
        "model.apply(init_weight)"
      ],
      "execution_count": 20,
      "outputs": [
        {
          "output_type": "stream",
          "text": [
            "/usr/local/lib/python3.7/dist-packages/ipykernel_launcher.py:3: UserWarning: nn.init.uniform is now deprecated in favor of nn.init.uniform_.\n",
            "  This is separate from the ipykernel package so we can avoid doing imports until\n"
          ],
          "name": "stderr"
        },
        {
          "output_type": "execute_result",
          "data": {
            "text/plain": [
              "seq2seq(\n",
              "  (encoder): Encoder(\n",
              "    (embedding): Embedding(5893, 256)\n",
              "    (rnn): GRU(256, 512, dropout=0.5, bidirectional=True)\n",
              "    (dropout): Dropout(p=0.5, inplace=False)\n",
              "    (fc): Linear(in_features=1024, out_features=512, bias=True)\n",
              "  )\n",
              "  (decoder): Decoder(\n",
              "    (attn): Attention(\n",
              "      (att): Linear(in_features=1536, out_features=512, bias=True)\n",
              "      (v): Linear(in_features=512, out_features=1, bias=False)\n",
              "    )\n",
              "    (embedding): Embedding(7853, 256)\n",
              "    (rnn): GRU(1280, 512, dropout=0.5)\n",
              "    (fc): Linear(in_features=1792, out_features=7853, bias=True)\n",
              "    (dropout): Dropout(p=0.5, inplace=False)\n",
              "  )\n",
              ")"
            ]
          },
          "metadata": {
            "tags": []
          },
          "execution_count": 20
        }
      ]
    },
    {
      "cell_type": "code",
      "metadata": {
        "id": "jj9CWySWniT2"
      },
      "source": [
        "def train(model,train_loader,optimizor,criterion,clip=1):\n",
        "  model.train()\n",
        "  total_loss=0\n",
        "  for i , batch in enumerate(train_loader):\n",
        "    optimizor.zero_grad()\n",
        "    predictions=model(batch.src,batch.trg)\n",
        "    output_dim=predictions.shape[2]\n",
        "    predictions,trg=predictions.view(-1,output_dim),batch.trg.view(-1)\n",
        "    loss=criterion(predictions,trg)\n",
        "    loss.backward()\n",
        "    torch.nn.utils.clip_grad_norm_(model.parameters(), clip)\n",
        "    optimizor.step()\n",
        "    total_loss+=loss\n",
        "  return total_loss/len(train_loader),torch.exp(total_loss/len(train_loader))\n"
      ],
      "execution_count": 21,
      "outputs": []
    },
    {
      "cell_type": "code",
      "metadata": {
        "id": "wzMstVnKoRhU"
      },
      "source": [
        "train(model,train_loader,optimizor,criterion)"
      ],
      "execution_count": null,
      "outputs": []
    },
    {
      "cell_type": "code",
      "metadata": {
        "id": "TPg-d0oSgrP0"
      },
      "source": [
        "def evaluate(model,valid_loader,criterion):\n",
        "  model.eval()\n",
        "  total_loss=0\n",
        "  for i , batch in enumerate(valid_loader):\n",
        "   \n",
        "    predictions=model(batch.src,batch.trg,0)\n",
        "    output_dim=predictions.shape[2]\n",
        "    predictions,trg=predictions.view(-1,output_dim),batch.trg.view(-1)\n",
        "    loss=criterion(predictions,trg)\n",
        "   \n",
        "    total_loss+=loss\n",
        "  return total_loss/len(valid_loader),torch.exp(total_loss/len(valid_loader))\n"
      ],
      "execution_count": 23,
      "outputs": []
    },
    {
      "cell_type": "code",
      "metadata": {
        "id": "z7EbalpJixVU",
        "colab": {
          "base_uri": "https://localhost:8080/"
        },
        "outputId": "0df1377e-3bd2-4640-d4a2-e9224f31e448"
      },
      "source": [
        "best_loss=float('inf')\n",
        "for epoch in range(4):\n",
        "  loss_train,prep_train=train(model,train_loader,optimizor,criterion)\n",
        "  loss_val,prep_val=evaluate(model,valid_loader,criterion)\n",
        "  if loss_val<best_loss:\n",
        "    best_loss=loss_val\n",
        "    torch.save(model.state_dict(),'seq2seq.pt')\n",
        "  print(f'\\tTrain Loss: {loss_train:.3f} | Train PPL: {prep_train:7.3f}')\n",
        "  print(f'\\t Val. Loss: {loss_val:.3f} |  Val. PPL: {prep_val:7.3f}')\n",
        "\n"
      ],
      "execution_count": 24,
      "outputs": [
        {
          "output_type": "stream",
          "text": [
            "\tTrain Loss: 4.810 | Train PPL: 122.694\n",
            "\t Val. Loss: 4.187 |  Val. PPL:  65.795\n",
            "\tTrain Loss: 3.548 | Train PPL:  34.740\n",
            "\t Val. Loss: 3.686 |  Val. PPL:  39.885\n",
            "\tTrain Loss: 3.018 | Train PPL:  20.447\n",
            "\t Val. Loss: 3.447 |  Val. PPL:  31.421\n",
            "\tTrain Loss: 2.650 | Train PPL:  14.153\n",
            "\t Val. Loss: 3.425 |  Val. PPL:  30.732\n"
          ],
          "name": "stdout"
        }
      ]
    }
  ]
}